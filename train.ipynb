{
 "cells": [
  {
   "cell_type": "code",
   "execution_count": null,
   "metadata": {
    "colab": {
     "base_uri": "https://localhost:8080/"
    },
    "executionInfo": {
     "elapsed": 103528,
     "status": "ok",
     "timestamp": 1711483031453,
     "user": {
      "displayName": "lucas zhang",
      "userId": "16427485556848619342"
     },
     "user_tz": 420
    },
    "id": "M46Fz3fTI_mW",
    "outputId": "0c4d4c40-0ec0-4381-977a-05df024e0be5",
    "tags": []
   },
   "outputs": [],
   "source": [
    "!git clone https://github.com/zlc1004/capchaSolver.git\n",
    "%pip install -r capchaSolver/requirements.txt"
   ]
  },
  {
   "cell_type": "code",
   "execution_count": 1,
   "metadata": {
    "id": "VpZbWjpTHISi",
    "tags": []
   },
   "outputs": [],
   "source": [
    "import os\n",
    "os.chdir(\"capchaSolver/trainer\")"
   ]
  },
  {
   "cell_type": "code",
   "execution_count": 1,
   "metadata": {},
   "outputs": [],
   "source": [
    "import os\n",
    "os.chdir(\"trainer\")"
   ]
  },
  {
   "cell_type": "code",
   "execution_count": 2,
   "metadata": {
    "id": "18U0KPx-6mEn",
    "tags": []
   },
   "outputs": [],
   "source": [
    "import torch.backends.cudnn as cudnn\n",
    "import yaml\n",
    "from train import train\n",
    "from utils import AttrDict\n",
    "import pandas as pd\n",
    "cudnn.benchmark = True\n",
    "cudnn.deterministic = False\n",
    "def get_config(file_path):\n",
    "    with open(file_path, 'r', encoding=\"utf8\") as stream:\n",
    "        opt = yaml.safe_load(stream)\n",
    "    opt = AttrDict(opt)\n",
    "    if opt.lang_char == 'None':\n",
    "        characters = ''\n",
    "        for data in opt['select_data'].split('-'):\n",
    "            csv_path = os.path.join(opt['train_data'], data, 'labels.csv')\n",
    "            df = pd.read_csv(csv_path, sep='^([^,]+),', engine='python', usecols=['filename', 'words'], keep_default_na=False)\n",
    "            all_char = ''.join(df['words'])\n",
    "            characters += ''.join(set(all_char))\n",
    "        characters = sorted(set(characters))\n",
    "        opt.character= ''.join(characters)\n",
    "    else:\n",
    "        opt.character = opt.number + opt.symbol + opt.lang_char\n",
    "    os.makedirs(f'./saved_models/{opt.experiment_name}', exist_ok=True)\n",
    "    return opt"
   ]
  },
  {
   "cell_type": "code",
   "execution_count": null,
   "metadata": {
    "colab": {
     "base_uri": "https://localhost:8080/",
     "height": 1000
    },
    "executionInfo": {
     "elapsed": 1782202,
     "status": "error",
     "timestamp": 1711484844949,
     "user": {
      "displayName": "lucas zhang",
      "userId": "16427485556848619342"
     },
     "user_tz": 420
    },
    "id": "9y96_i8HGty-",
    "outputId": "ee61e05f-85fb-4cee-b5cc-739616349187"
   },
   "outputs": [],
   "source": [
    "opt = get_config(\"config_files/en_filtered_config.yaml\")\n",
    "model = train.load_model(opt,\"saved_models/en_filtered/final_iter_50000.pth\")\n",
    "train(opt,model, amp=False)"
   ]
  }
 ],
 "metadata": {
  "accelerator": "GPU",
  "colab": {
   "gpuType": "T4",
   "provenance": [
    {
     "file_id": "1XVoHmrqaJuWdgjxxB3y4JIuho-Tudx2d",
     "timestamp": 1711665755397
    }
   ]
  },
  "kernelspec": {
   "display_name": "captcha",
   "language": "python",
   "name": "python3"
  },
  "language_info": {
   "codemirror_mode": {
    "name": "ipython",
    "version": 3
   },
   "file_extension": ".py",
   "mimetype": "text/x-python",
   "name": "python",
   "nbconvert_exporter": "python",
   "pygments_lexer": "ipython3",
   "version": "3.10.14"
  }
 },
 "nbformat": 4,
 "nbformat_minor": 4
}
